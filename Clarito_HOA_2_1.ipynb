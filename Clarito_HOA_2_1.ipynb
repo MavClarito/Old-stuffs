{
  "cells": [
    {
      "cell_type": "markdown",
      "metadata": {
        "id": "view-in-github",
        "colab_type": "text"
      },
      "source": [
        "<a href=\"https://colab.research.google.com/github/MavClarito/Old-stuffs/blob/main/Clarito_HOA_2_1.ipynb\" target=\"_parent\"><img src=\"https://colab.research.google.com/assets/colab-badge.svg\" alt=\"Open In Colab\"/></a>"
      ]
    },
    {
      "cell_type": "markdown",
      "metadata": {
        "id": "7LoB1OhRGTfj"
      },
      "source": [
        "# HOA#2.1\n"
      ]
    },
    {
      "cell_type": "markdown",
      "metadata": {
        "id": "UX2PTZuDGTfm"
      },
      "source": [
        "Name: Clarito, Vincent Maverick D.\n",
        "\n",
        "Section: CPE12S1\n",
        "\n",
        "Date performed: March 22, 2022"
      ]
    },
    {
      "cell_type": "markdown",
      "metadata": {
        "id": "yTtRklEmGTfn"
      },
      "source": [
        "1\\. Make a program that takes two input and identifies if the first number is divisible by the second number."
      ]
    },
    {
      "cell_type": "code",
      "execution_count": null,
      "metadata": {
        "id": "Cqew9FFbGTfo"
      },
      "outputs": [],
      "source": [
        "first = int (input(\"first number: \"))\n",
        "second = int (input(\"second number: \"))\n",
        "result = first%second\n",
        "if result == 0:\n",
        "  print (first, \"divisible by\", second)\n",
        "else:\n",
        "  print (first, \"is not divisible\", second)"
      ]
    },
    {
      "cell_type": "markdown",
      "metadata": {
        "id": "vn6-JkbrGTfp"
      },
      "source": [
        "## Contents\n",
        " - [Procedures](#procedures)\n",
        " - [Supplementary Activity](#supplementary_activities)\n",
        " - [Conclusion](#conclusion)"
      ]
    },
    {
      "cell_type": "markdown",
      "metadata": {
        "id": "vrrxi1AFGTfq"
      },
      "source": [
        "## Instructions for Lab Activities\n",
        "---\n",
        "Document all procedures and supplementary tasks performed in the activity.\n",
        "\n",
        "You may use these links for reference on markdown with Jupyter:\n",
        "\n",
        "https://jupyter-notebook.readthedocs.io/en/stable/examples/Notebook/Notebook%20Basics.html\n",
        "\n",
        "https://colab.research.google.com/notebooks/welcome.ipynb\n",
        "\n",
        "https://colab.research.google.com/notebooks/markdown_guide.ipynb\n",
        "\n",
        "Be creative in documenting how you did the procedures below using the markdown. Also provide your observations as often as necessary per step.\n",
        "\n",
        "Place your code per **In [ ]** corresponding to the specified procedure. An example is given below"
      ]
    },
    {
      "cell_type": "markdown",
      "metadata": {
        "id": "KTuLsdH7GTfr"
      },
      "source": [
        "## <a id=\"procedures\">Procedures</a>"
      ]
    },
    {
      "cell_type": "markdown",
      "metadata": {
        "id": "6GekN_xiGTfr"
      },
      "source": [
        "### Assigning variables of different data types in Python"
      ]
    },
    {
      "cell_type": "markdown",
      "metadata": {
        "id": "NSeZwzj3GTfs"
      },
      "source": [
        "1\\. Assign a variable ***value*** to be equal to 1 then display the value using print()"
      ]
    },
    {
      "cell_type": "code",
      "execution_count": null,
      "metadata": {
        "id": "URDSd5fKGTfs",
        "outputId": "134669b3-215e-46b4-9519-d29efabee600"
      },
      "outputs": [
        {
          "name": "stdout",
          "output_type": "stream",
          "text": [
            "1\n"
          ]
        }
      ],
      "source": [
        "value = 1\n",
        "print(value)"
      ]
    },
    {
      "cell_type": "markdown",
      "metadata": {
        "id": "6sMlwql3GTft"
      },
      "source": [
        "2\\. Second step. Note how the numberings are done."
      ]
    },
    {
      "cell_type": "code",
      "execution_count": null,
      "metadata": {
        "id": "AxX-O6IqGTfu",
        "outputId": "020757f5-6ee4-4274-df9c-a40a463b8b1f"
      },
      "outputs": [
        {
          "data": {
            "text/plain": [
              "int"
            ]
          },
          "execution_count": 3,
          "metadata": {},
          "output_type": "execute_result"
        }
      ],
      "source": [
        "type(value)"
      ]
    },
    {
      "cell_type": "markdown",
      "metadata": {
        "id": "ybsZNorxGTfu"
      },
      "source": [
        "### Observation:\n",
        "\n",
        "\n",
        "It can be observed that the **print**(value) code displays the number assigned to the value variable."
      ]
    },
    {
      "cell_type": "markdown",
      "metadata": {
        "id": "OmpsqZSeGTfu"
      },
      "source": [
        "## <a id=\"supplementary_activities\">Supplementary Activity</a>"
      ]
    },
    {
      "cell_type": "markdown",
      "source": [
        "**Distance Formula**\n",
        "**1. Make a program that would calculate the distance between two points given a list of coordinates. Use the distance formula.**\n",
        "\n",
        "**coordinates_list = [(1,1), (2,3)]**"
      ],
      "metadata": {
        "id": "JxsqJxi8HInF"
      }
    },
    {
      "cell_type": "code",
      "execution_count": null,
      "metadata": {
        "colab": {
          "base_uri": "https://localhost:8080/"
        },
        "id": "37FvpnKrGTfu",
        "outputId": "54b78729-19c1-4232-dd2b-c038d27032af"
      },
      "outputs": [
        {
          "output_type": "stream",
          "name": "stdout",
          "text": [
            "The distance between the two points is:  2.23606797749979\n"
          ]
        }
      ],
      "source": [
        "#Compiled coordinates in one array in order for the code to determine the number of elements (0,1,2,3)\n",
        "coordinates_list = (1,1,2,3)\n",
        "x1 = coordinates_list [0]\n",
        "y1 = coordinates_list [1]\n",
        "x2 = coordinates_list [2]\n",
        "y2 = coordinates_list [3]\n",
        "#Distance formula\n",
        "d = ((((x2-x1)**2+(y2-y1)**2))**0.5)\n",
        "#Displays message after computing the given\n",
        "print (\"The distance between the two points is: \", d)\n"
      ]
    },
    {
      "cell_type": "markdown",
      "source": [
        "**Simple Word Filter**\n",
        "\n",
        "**2. For a given string input, replace all the words “stupid” with an asterisk * equal to the length of the string. The new string value should be displayed with the asterisks.**"
      ],
      "metadata": {
        "id": "czFfFnhfHX4B"
      }
    },
    {
      "cell_type": "code",
      "source": [
        "#User inputs a word or sentence\n",
        "message = input(\"Input your word/sentence here: \")\n",
        "#Code replaces the word or sentence with asterisks\n",
        "print (message.replace('stupid', '******'))\n"
      ],
      "metadata": {
        "colab": {
          "base_uri": "https://localhost:8080/"
        },
        "id": "c9szR3D4Ha9-",
        "outputId": "4043369a-bc62-4094-a986-a346b43abb9f"
      },
      "execution_count": null,
      "outputs": [
        {
          "output_type": "stream",
          "name": "stdout",
          "text": [
            "Input your word/sentence here: I am stupid\n",
            "I am ******\n"
          ]
        }
      ]
    },
    {
      "cell_type": "markdown",
      "source": [
        "**Phonebook**  \n",
        "**3. Create a simple phonebook program that can read from a list of dictionaries. The program should be able to display a\n",
        "person’s name, contact, and address based from a user input which is the id of the record.**"
      ],
      "metadata": {
        "id": "wbF7gIYuHbVb"
      }
    },
    {
      "cell_type": "code",
      "source": [
        "#Defines the function name (phonebook) in order for me to manipulate the rest of the codes\n",
        "def print_phonebook():\n",
        "#This code displays choices the user can pick\n",
        "  print('1. Print Phone Numbers')\n",
        "  print('2. Add a Phone Number')\n",
        "  print('3. Lookup a Phone Number')\n",
        "  print('4. Quit')\n",
        "#This creates blank spacing\n",
        "  print()\n",
        "\n",
        "numbers = {}\n",
        "#This creates the class\n",
        "phonebook_choice = 0\n",
        "print_phonebook()\n",
        "#The line creates the 4 choices that user use:\n",
        "while phonebook_choice != 4:\n",
        "  #This line is where the user inputs from the range of 1-4\n",
        "  phonebook_choice = int(input(\"\\tType in a number (1-4): \"))\n",
        "  #This line of code appears if the user choose the first option or typed \"1\"\n",
        "  if phonebook_choice == 1:\n",
        "    print(\"Telephone Numbers:\")\n",
        "    for x in numbers.keys():\n",
        "      #The \"\\t\" creates a tab or spacing\n",
        "      print(\"Name: \", x, \"\\tNumber:\", numbers[x])\n",
        "    print()\n",
        "  #This line of code appears if the user choose the second option or typed \"2\"\n",
        "  elif phonebook_choice == 2:\n",
        "    print(\"Add Name and Number\")\n",
        "    name = input(\"Name: \")\n",
        "    phone = input(\"Number: \")\n",
        "    numbers[name] = phone\n",
        "  #This line of code appears if the user choose the third option or typed \"3\"\n",
        "  elif phonebook_choice == 3:\n",
        "    print(\"Lookup Number\")\n",
        "    name = input(\"Name: \")\n",
        "    if name in numbers:\n",
        "      print(\"The number is\", numbers[name])\n",
        "    #This line of code displays if the name inputted on the previous line wasn't found\n",
        "    else:\n",
        "      print(name, \"was not found\")\n",
        "  #This line of code appears if the user choose to end or dismiss\n",
        "  elif phonebook_choice != 4:\n",
        "    print_phonebook()\n",
        ""
      ],
      "metadata": {
        "colab": {
          "base_uri": "https://localhost:8080/"
        },
        "id": "qFLYX9x1Hf6m",
        "outputId": "5fc16327-c09a-443b-f6e8-7a430f8e60a9"
      },
      "execution_count": null,
      "outputs": [
        {
          "name": "stdout",
          "output_type": "stream",
          "text": [
            "1. Print Phone Numbers\n",
            "2. Add a Phone Number\n",
            "3. Lookup a Phone Number\n",
            "4. Quit\n",
            "\n",
            "Type in a number (1-4): 3\n",
            "Lookup Number\n",
            "Name: aisvia\n",
            "aisvia was not found\n",
            "Type in a number (1-4): 2\n",
            "Add Name and Number\n",
            "Name: Mav\n",
            "Number: 09163258570\n",
            "Type in a number (1-4): 3\n",
            "Lookup Number\n",
            "Name: Mav\n",
            "The number is 09163258570\n",
            "Type in a number (1-4): 1\n",
            "Telephone Numbers:\n",
            "Name:  Mav \tNumber: 09163258570\n",
            "\n",
            "Type in a number (1-4): 2\n",
            "Add Name and Number\n",
            "Name: Carson 0974736441\n",
            "Number: 0937416414\n",
            "Type in a number (1-4): 1\n",
            "Telephone Numbers:\n",
            "Name:  Mav \tNumber: 09163258570\n",
            "Name:  Carson 0974736441 \tNumber: 0937416414\n",
            "\n",
            "Type in a number (1-4): 4\n"
          ]
        }
      ]
    },
    {
      "cell_type": "markdown",
      "metadata": {
        "id": "k9OrTMLkGTfv"
      },
      "source": [
        "## <a id=\"conclusion\">Conclusion</a>"
      ]
    },
    {
      "cell_type": "markdown",
      "source": [
        "I therefore conclude that the problems in is quite easy to understand or to do if you're thinking broadly and imagine situations on how to analyze and solve that problem. For the third problem its quite challenging but if I'm gonna compare this from the previous programming language that I learned this is less hassle to do especially making a class and using if-else statements. Python language made it simplier, easier, and cleaner to understand."
      ],
      "metadata": {
        "id": "9QdbMP2DgA67"
      }
    }
  ],
  "metadata": {
    "kernelspec": {
      "display_name": "Python 3",
      "language": "python",
      "name": "python3"
    },
    "language_info": {
      "codemirror_mode": {
        "name": "ipython",
        "version": 3
      },
      "file_extension": ".py",
      "mimetype": "text/x-python",
      "name": "python",
      "nbconvert_exporter": "python",
      "pygments_lexer": "ipython3",
      "version": "3.7.3"
    },
    "colab": {
      "provenance": [],
      "include_colab_link": true
    }
  },
  "nbformat": 4,
  "nbformat_minor": 0
}